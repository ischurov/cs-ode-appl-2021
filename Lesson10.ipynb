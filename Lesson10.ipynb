{
 "cells": [
  {
   "cell_type": "markdown",
   "id": "obvious-tucson",
   "metadata": {},
   "source": [
    "# Прикладные дифференциальные уравнения\n",
    "## Занятие 10\n",
    "*Илья Щуров*\n",
    "\n",
    "Факультет компьютерных наук, Прикладная математики и информатика, 2021-22 учебный год\n",
    "\n",
    "[Страница курса](http://math-info.hse.ru/2021-22/Прикладные_дифференциальные_уравнения)"
   ]
  },
  {
   "cell_type": "code",
   "execution_count": 1,
   "id": "decent-installation",
   "metadata": {},
   "outputs": [],
   "source": [
    "import numpy as np\n",
    "from scipy.integrate import odeint\n",
    "import matplotlib.pyplot as plt\n",
    "import math\n",
    "%matplotlib inline"
   ]
  },
  {
   "cell_type": "markdown",
   "id": "organic-front",
   "metadata": {},
   "source": [
    "### Осциллятор с переменной жёсткостью\n",
    "$$\\ddot x = - (\\sin t + 2) x$$\n",
    "\n",
    "$$\\dot x = y, \\quad \\dot y = -(\\sin t + 2) x$$"
   ]
  },
  {
   "cell_type": "code",
   "execution_count": 2,
   "id": "signed-cycling",
   "metadata": {},
   "outputs": [],
   "source": [
    "def osc(X, t):\n",
    "    x, y = X\n",
    "    return np.array([y, (-math.sin(2 * t) + 2) * x])"
   ]
  },
  {
   "cell_type": "code",
   "execution_count": 3,
   "id": "yellow-proxy",
   "metadata": {},
   "outputs": [
    {
     "data": {
      "text/plain": [
       "array([[ 1.        ,  2.        ],\n",
       "       [14.64673206, 21.63805004]])"
      ]
     },
     "execution_count": 3,
     "metadata": {},
     "output_type": "execute_result"
    }
   ],
   "source": [
    "odeint(osc, np.array([1, 2]), np.array([0, 2]))"
   ]
  },
  {
   "cell_type": "code",
   "execution_count": 4,
   "id": "imperial-honduras",
   "metadata": {},
   "outputs": [],
   "source": [
    "def phase_flow(system, t_0, t_1):\n",
    "    def g(x):\n",
    "        return odeint(system, x, np.array([t_0, t_1]))[-1]\n",
    "    return g"
   ]
  },
  {
   "cell_type": "code",
   "execution_count": 5,
   "id": "arctic-wisdom",
   "metadata": {},
   "outputs": [],
   "source": [
    "g = phase_flow(osc, 1, 4)"
   ]
  },
  {
   "cell_type": "markdown",
   "id": "technological-sending",
   "metadata": {},
   "source": [
    "### Линейность отображения фазового потока"
   ]
  },
  {
   "cell_type": "code",
   "execution_count": 6,
   "id": "popular-vessel",
   "metadata": {},
   "outputs": [],
   "source": [
    "e1 = np.array([1, 0])\n",
    "e2 = np.array([0, 1])"
   ]
  },
  {
   "cell_type": "code",
   "execution_count": 7,
   "id": "historic-barbados",
   "metadata": {},
   "outputs": [
    {
     "data": {
      "text/plain": [
       "array([36.77682016, 42.06341281])"
      ]
     },
     "execution_count": 7,
     "metadata": {},
     "output_type": "execute_result"
    }
   ],
   "source": [
    "g(e1)"
   ]
  },
  {
   "cell_type": "code",
   "execution_count": 8,
   "id": "canadian-excuse",
   "metadata": {},
   "outputs": [
    {
     "data": {
      "text/plain": [
       "array([29.09520864, 33.3047762 ])"
      ]
     },
     "execution_count": 8,
     "metadata": {},
     "output_type": "execute_result"
    }
   ],
   "source": [
    "g(e2)"
   ]
  },
  {
   "cell_type": "code",
   "execution_count": 9,
   "id": "caring-spokesman",
   "metadata": {},
   "outputs": [
    {
     "data": {
      "text/plain": [
       "array([65.87203428, 75.36819653])"
      ]
     },
     "execution_count": 9,
     "metadata": {},
     "output_type": "execute_result"
    }
   ],
   "source": [
    "g(e1 + e2)"
   ]
  },
  {
   "cell_type": "code",
   "execution_count": 10,
   "id": "offshore-turkey",
   "metadata": {},
   "outputs": [
    {
     "data": {
      "text/plain": [
       "array([65.8720288 , 75.36818901])"
      ]
     },
     "execution_count": 10,
     "metadata": {},
     "output_type": "execute_result"
    }
   ],
   "source": [
    "g(e1) + g(e2)"
   ]
  },
  {
   "cell_type": "code",
   "execution_count": 11,
   "id": "becoming-interference",
   "metadata": {},
   "outputs": [
    {
     "data": {
      "text/plain": [
       "True"
      ]
     },
     "execution_count": 11,
     "metadata": {},
     "output_type": "execute_result"
    }
   ],
   "source": [
    "np.isclose(g(e1 + e2), g(e1) + g(e2)).all()"
   ]
  },
  {
   "cell_type": "code",
   "execution_count": 12,
   "id": "educational-handling",
   "metadata": {},
   "outputs": [
    {
     "data": {
      "text/plain": [
       "array([110.33046451, 126.19024232])"
      ]
     },
     "execution_count": 12,
     "metadata": {},
     "output_type": "execute_result"
    }
   ],
   "source": [
    "g(3 * e1)"
   ]
  },
  {
   "cell_type": "code",
   "execution_count": 13,
   "id": "interested-listening",
   "metadata": {},
   "outputs": [
    {
     "data": {
      "text/plain": [
       "True"
      ]
     },
     "execution_count": 13,
     "metadata": {},
     "output_type": "execute_result"
    }
   ],
   "source": [
    "np.isclose(3 * g(e1), g(3 * e1)).all()"
   ]
  },
  {
   "cell_type": "code",
   "execution_count": 14,
   "id": "precious-onion",
   "metadata": {},
   "outputs": [
    {
     "data": {
      "text/plain": [
       "0.9999930497444511"
      ]
     },
     "execution_count": 14,
     "metadata": {},
     "output_type": "execute_result"
    }
   ],
   "source": [
    "np.linalg.det(np.array([g(e1), g(e2)]))"
   ]
  },
  {
   "cell_type": "markdown",
   "id": "vocal-dynamics",
   "metadata": {},
   "source": [
    "$$\n",
    "\\dot x = tx + 2y, \\quad \\dot y = x \\sin t - 3y\n",
    "$$"
   ]
  },
  {
   "cell_type": "code",
   "execution_count": 15,
   "id": "remarkable-accident",
   "metadata": {},
   "outputs": [],
   "source": [
    "def linear_system(X, t):\n",
    "    x, y = X\n",
    "    return np.array([x * t + 2 * y,\n",
    "              x * math.sin(t) - 3 * y])"
   ]
  },
  {
   "cell_type": "code",
   "execution_count": 16,
   "id": "possible-parameter",
   "metadata": {},
   "outputs": [],
   "source": [
    "g = phase_flow(linear_system, 0, 3)"
   ]
  },
  {
   "cell_type": "code",
   "execution_count": 17,
   "id": "interracial-restaurant",
   "metadata": {},
   "outputs": [
    {
     "data": {
      "text/plain": [
       "True"
      ]
     },
     "execution_count": 17,
     "metadata": {},
     "output_type": "execute_result"
    }
   ],
   "source": [
    "np.isclose(g(e1 + e2), g(e1) + g(e2)).all()"
   ]
  },
  {
   "cell_type": "markdown",
   "id": "significant-science",
   "metadata": {},
   "source": [
    "### Задача\n",
    "Найти $\\det g_0^3$ аналитически."
   ]
  },
  {
   "cell_type": "markdown",
   "id": "above-milton",
   "metadata": {},
   "source": [
    "$$\\mathop{\\mathrm{Tr}} A = t - 3$$\n",
    "$$\\int_0^3 (t-3) dt = 9/2 - 9=-9/2=-4.5$$\n",
    "$$\\det g_0^3 = e^{-4.5}$$"
   ]
  },
  {
   "cell_type": "code",
   "execution_count": 18,
   "id": "operating-helen",
   "metadata": {},
   "outputs": [
    {
     "data": {
      "text/plain": [
       "0.011108996538242306"
      ]
     },
     "execution_count": 18,
     "metadata": {},
     "output_type": "execute_result"
    }
   ],
   "source": [
    "math.exp(3 ** 2 / 2 - 3 * 3)"
   ]
  },
  {
   "cell_type": "code",
   "execution_count": 19,
   "id": "increasing-adobe",
   "metadata": {},
   "outputs": [
    {
     "data": {
      "text/plain": [
       "0.011194714438770365"
      ]
     },
     "execution_count": 19,
     "metadata": {},
     "output_type": "execute_result"
    }
   ],
   "source": [
    "np.linalg.det(np.array([g(e1), g(e2)]))"
   ]
  },
  {
   "cell_type": "code",
   "execution_count": 20,
   "id": "tracked-donna",
   "metadata": {},
   "outputs": [
    {
     "data": {
      "text/plain": [
       "array([196.84929067,   9.89932211])"
      ]
     },
     "execution_count": 20,
     "metadata": {},
     "output_type": "execute_result"
    }
   ],
   "source": [
    "g(e1)"
   ]
  },
  {
   "cell_type": "code",
   "execution_count": 21,
   "id": "genuine-reasoning",
   "metadata": {},
   "outputs": [
    {
     "data": {
      "text/plain": [
       "array([115.89484579,   5.82827401])"
      ]
     },
     "execution_count": 21,
     "metadata": {},
     "output_type": "execute_result"
    }
   ],
   "source": [
    "g(e2)"
   ]
  },
  {
   "cell_type": "markdown",
   "id": "molecular-arlington",
   "metadata": {},
   "source": [
    "### Сохранение фазового объёма"
   ]
  },
  {
   "cell_type": "code",
   "execution_count": 22,
   "id": "enhanced-count",
   "metadata": {},
   "outputs": [],
   "source": [
    "def pendulum(X, t):\n",
    "    x, y = X\n",
    "    return np.array([y,\n",
    "                     -math.sin(x)])"
   ]
  },
  {
   "cell_type": "code",
   "execution_count": 23,
   "id": "legendary-offering",
   "metadata": {},
   "outputs": [],
   "source": [
    "initial_points = [x for x in np.random.uniform(-3, 3, size=(100000, 2))\n",
    "                  if np.linalg.norm(x - np.array([0.8, 0.7])) < 0.4]"
   ]
  },
  {
   "cell_type": "code",
   "execution_count": 24,
   "id": "blank-winning",
   "metadata": {},
   "outputs": [],
   "source": [
    "T = np.linspace(0, 50)\n",
    "trajectories = [odeint(pendulum, initial_point, T) \n",
    "                for initial_point in initial_points]"
   ]
  },
  {
   "cell_type": "code",
   "execution_count": 25,
   "id": "exposed-comment",
   "metadata": {},
   "outputs": [],
   "source": [
    "from ipywidgets import interact"
   ]
  },
  {
   "cell_type": "code",
   "execution_count": 26,
   "id": "proud-installation",
   "metadata": {},
   "outputs": [
    {
     "data": {
      "application/vnd.jupyter.widget-view+json": {
       "model_id": "99050de4d4314d839c65a2dbb701ba4c",
       "version_major": 2,
       "version_minor": 0
      },
      "text/plain": [
       "interactive(children=(IntSlider(value=25, description='t', max=50), Output()), _dom_classes=('widget-interact'…"
      ]
     },
     "metadata": {},
     "output_type": "display_data"
    }
   ],
   "source": [
    "@interact(t=(0, 50), manual=True)\n",
    "def draw_phase_volume(t):\n",
    "    X = np.linspace(-8, 8, 500)\n",
    "    Y = np.linspace(-4, 4, 500)\n",
    "    x, y = np.meshgrid(X, Y)\n",
    "    plt.contour(x, y, y ** 2 / 2 - np.cos(x), levels=20)\n",
    "    plt.plot(*zip(*np.array(trajectories)[:, t, :]), '.')"
   ]
  }
 ],
 "metadata": {
  "kernelspec": {
   "display_name": "Python 3.9 (system)",
   "language": "python",
   "name": "py39_system"
  },
  "language_info": {
   "codemirror_mode": {
    "name": "ipython",
    "version": 3
   },
   "file_extension": ".py",
   "mimetype": "text/x-python",
   "name": "python",
   "nbconvert_exporter": "python",
   "pygments_lexer": "ipython3",
   "version": "3.9.0"
  }
 },
 "nbformat": 4,
 "nbformat_minor": 5
}
